{
  "nbformat": 4,
  "nbformat_minor": 0,
  "metadata": {
    "colab": {
      "name": "Copy of Copy of 4_4_GPU.ipynb",
      "provenance": []
    },
    "kernelspec": {
      "display_name": "Python 3",
      "language": "python",
      "name": "python3"
    },
    "language_info": {
      "codemirror_mode": {
        "name": "ipython",
        "version": 3
      },
      "file_extension": ".py",
      "mimetype": "text/x-python",
      "name": "python",
      "nbconvert_exporter": "python",
      "pygments_lexer": "ipython3",
      "version": "3.6.7"
    },
    "accelerator": "GPU"
  },
  "cells": [
    {
      "cell_type": "markdown",
      "metadata": {
        "id": "gN-zFG3BxxJU"
      },
      "source": [
        "# Part 4: Using GPU acceleration with PyTorch"
      ]
    },
    {
      "cell_type": "code",
      "metadata": {
        "colab": {
          "base_uri": "https://localhost:8080/"
        },
        "id": "XshHMm7ixxJb",
        "outputId": "390ce2bd-e094-4799-fe69-506fb2a14eef"
      },
      "source": [
        "# Execute this code block to install dependencies when running on colab\n",
        "try:\n",
        "    import torch\n",
        "except:\n",
        "    from os.path import exists\n",
        "    from wheel.pep425tags import get_abbr_impl, get_impl_ver, get_abi_tag\n",
        "    platform = '{}{}-{}'.format(get_abbr_impl(), get_impl_ver(), get_abi_tag())\n",
        "    cuda_output = !ldconfig -p|grep cudart.so|sed -e 's/.*\\.\\([0-9]*\\)\\.\\([0-9]*\\)$/cu\\1\\2/'\n",
        "    accelerator = cuda_output[0] if exists('/dev/nvidia0') else 'cpu'\n",
        "\n",
        "    !pip install -q http://download.pytorch.org/whl/{accelerator}/torch-1.0.0-{platform}-linux_x86_64.whl torchvision\n",
        "\n",
        "try: \n",
        "    import torchbearer\n",
        "except:\n",
        "    !pip install torchbearer"
      ],
      "execution_count": 1,
      "outputs": [
        {
          "output_type": "stream",
          "name": "stdout",
          "text": [
            "Collecting torchbearer\n",
            "  Downloading torchbearer-0.5.3-py3-none-any.whl (138 kB)\n",
            "\u001b[?25l\r\u001b[K     |██▍                             | 10 kB 25.9 MB/s eta 0:00:01\r\u001b[K     |████▊                           | 20 kB 22.8 MB/s eta 0:00:01\r\u001b[K     |███████▏                        | 30 kB 11.3 MB/s eta 0:00:01\r\u001b[K     |█████████▌                      | 40 kB 8.9 MB/s eta 0:00:01\r\u001b[K     |███████████▉                    | 51 kB 5.3 MB/s eta 0:00:01\r\u001b[K     |██████████████▎                 | 61 kB 5.8 MB/s eta 0:00:01\r\u001b[K     |████████████████▋               | 71 kB 5.0 MB/s eta 0:00:01\r\u001b[K     |███████████████████             | 81 kB 5.6 MB/s eta 0:00:01\r\u001b[K     |█████████████████████▍          | 92 kB 5.7 MB/s eta 0:00:01\r\u001b[K     |███████████████████████▊        | 102 kB 5.2 MB/s eta 0:00:01\r\u001b[K     |██████████████████████████      | 112 kB 5.2 MB/s eta 0:00:01\r\u001b[K     |████████████████████████████▌   | 122 kB 5.2 MB/s eta 0:00:01\r\u001b[K     |██████████████████████████████▉ | 133 kB 5.2 MB/s eta 0:00:01\r\u001b[K     |████████████████████████████████| 138 kB 5.2 MB/s \n",
            "\u001b[?25hRequirement already satisfied: numpy in /usr/local/lib/python3.7/dist-packages (from torchbearer) (1.19.5)\n",
            "Requirement already satisfied: torch>=1.0.0 in /usr/local/lib/python3.7/dist-packages (from torchbearer) (1.9.0+cu102)\n",
            "Requirement already satisfied: tqdm in /usr/local/lib/python3.7/dist-packages (from torchbearer) (4.62.2)\n",
            "Requirement already satisfied: typing-extensions in /usr/local/lib/python3.7/dist-packages (from torch>=1.0.0->torchbearer) (3.7.4.3)\n",
            "Installing collected packages: torchbearer\n",
            "Successfully installed torchbearer-0.5.3\n"
          ]
        }
      ]
    },
    {
      "cell_type": "markdown",
      "metadata": {
        "id": "9XUMP0Q5xxJf"
      },
      "source": [
        "## Manual use of `.cuda()`\n",
        "\n",
        "Now the magic of PyTorch comes in. So far, we've only been using the CPU to do computation. When we want to scale to a bigger problem, that won't be feasible for very long.\n",
        "|\n",
        "PyTorch makes it really easy to use the GPU for accelerating computation. Consider the following code that computes the element-wise product of two large matrices:"
      ]
    },
    {
      "cell_type": "code",
      "metadata": {
        "colab": {
          "base_uri": "https://localhost:8080/"
        },
        "id": "eCPMNY89xxJg",
        "outputId": "9f74cc9e-e993-4fe1-8ec9-9ad35724e883"
      },
      "source": [
        "import torch\n",
        "\n",
        "t1 = torch.randn(1000, 1000)\n",
        "t2 = torch.randn(1000, 1000)\n",
        "t3 = t1*t2\n",
        "print(t3)"
      ],
      "execution_count": 2,
      "outputs": [
        {
          "output_type": "stream",
          "name": "stdout",
          "text": [
            "tensor([[-3.9552e-01, -3.8128e-01,  1.9382e-01,  ...,  6.5183e-02,\n",
            "         -8.0798e-01, -1.2860e-01],\n",
            "        [ 3.0110e-01, -8.0872e-02, -3.1637e-01,  ...,  1.3350e-02,\n",
            "          1.6355e-03, -1.5694e+00],\n",
            "        [-1.1489e-01,  7.3329e-01,  2.2787e-04,  ...,  3.7703e-01,\n",
            "          4.1632e-01, -1.3523e+00],\n",
            "        ...,\n",
            "        [-7.3590e-02,  1.4592e+00,  1.3454e-01,  ...,  9.4198e-01,\n",
            "         -1.8269e+00, -1.5354e-01],\n",
            "        [-2.8336e-01, -2.4925e-01, -1.2408e-01,  ...,  7.4308e-01,\n",
            "         -1.2395e+00,  8.6066e-01],\n",
            "        [-5.7882e-01, -3.7655e-01,  1.0264e+00,  ...,  4.4065e-01,\n",
            "          3.1151e-01,  2.3331e-01]])\n"
          ]
        }
      ]
    },
    {
      "cell_type": "markdown",
      "metadata": {
        "id": "BLcypCzpxxJi"
      },
      "source": [
        "By sending all the tensors that we are using to the GPU, all the operations on them will also run on the GPU without having to change anything else. If you're running a non-cuda enabled version of PyTorch the following will throw an error; if you have cuda available the following will create the input matrices, copy them to the GPU and perform the multiplication on the GPU itself:"
      ]
    },
    {
      "cell_type": "code",
      "metadata": {
        "colab": {
          "base_uri": "https://localhost:8080/"
        },
        "id": "JForXIgkxxJj",
        "outputId": "1067d2f5-cc35-4d83-f21a-700bb09ac330"
      },
      "source": [
        "t1 = torch.randn(1000, 1000).cuda()\n",
        "t2 = torch.randn(1000, 1000).cuda()\n",
        "t3 = t1*t2\n",
        "print(t3)"
      ],
      "execution_count": 3,
      "outputs": [
        {
          "output_type": "stream",
          "name": "stdout",
          "text": [
            "tensor([[ 7.8095e-01,  1.2063e+00, -4.9433e-01,  ...,  1.0070e+00,\n",
            "         -1.3398e+00,  5.3305e-01],\n",
            "        [-2.1063e-01, -8.1899e-01, -1.1687e-01,  ..., -1.5836e+00,\n",
            "         -1.7853e-01, -7.4694e-01],\n",
            "        [-1.3249e-01,  4.2734e-03, -1.0086e+00,  ...,  3.0373e-01,\n",
            "          1.0454e-01, -2.2840e+00],\n",
            "        ...,\n",
            "        [ 5.8685e-02,  4.3033e-03,  7.7491e-01,  ..., -5.7385e+00,\n",
            "          6.4804e-03, -1.0834e+00],\n",
            "        [ 1.1656e-01,  6.8511e-01, -1.0661e-02,  ..., -4.6963e-01,\n",
            "          3.1337e-01, -4.6921e-01],\n",
            "        [ 4.3533e-01,  1.9739e-01,  7.2861e-02,  ..., -1.1576e-01,\n",
            "         -4.2524e-03,  4.9364e-01]], device='cuda:0')\n"
          ]
        }
      ]
    },
    {
      "cell_type": "markdown",
      "metadata": {
        "id": "-iABStCrxxJk"
      },
      "source": [
        "If you're running this workbook in colab, now enable GPU acceleration (`Runtime->Runtime Type` and add a `GPU` in the hardware accelerator pull-down). You'll then need to re-run all cells to this point.\n",
        "\n",
        "If you were able to run the above with hardware acceleration, the print-out of the result tensor would show that it was an instance of `cuda.FloatTensor` type on the the `(GPU 0)` GPU device. If your wanted to copy the tensor back to the CPU, you would use the `.cpu()` method."
      ]
    },
    {
      "cell_type": "markdown",
      "metadata": {
        "id": "pj1pA1SExxJl"
      },
      "source": [
        "## Writing platform agnostic code\n",
        "\n",
        "Most of the time you'd like to write code that is device agnostic; that is it will run on a GPU if one is available, and otherwise it would fall back to the CPU. The recommended way to do this is as follows:"
      ]
    },
    {
      "cell_type": "code",
      "metadata": {
        "id": "sUJI6Kh1xxJn",
        "colab": {
          "base_uri": "https://localhost:8080/"
        },
        "outputId": "beb1582b-2410-4275-c2c8-ce28a8961fd3"
      },
      "source": [
        "device = \"cuda:0\" if torch.cuda.is_available() else \"cpu\"\n",
        "t1 = torch.randn(1000, 1000).to(device)\n",
        "t2 = torch.randn(1000, 1000).to(device)\n",
        "t3 = t1*t2\n",
        "print(t3)"
      ],
      "execution_count": 4,
      "outputs": [
        {
          "output_type": "stream",
          "name": "stdout",
          "text": [
            "tensor([[ 7.5739e-03,  5.8514e-02,  1.3797e-01,  ...,  8.7184e-01,\n",
            "          3.1220e-03,  7.8212e-01],\n",
            "        [ 3.4573e-01,  4.4667e-01,  2.0699e-01,  ..., -7.2444e-01,\n",
            "          3.4763e+00, -1.1593e+00],\n",
            "        [-1.1349e+00, -7.0030e-01, -3.3237e-01,  ...,  8.4853e-02,\n",
            "          3.9605e-01,  1.4900e-02],\n",
            "        ...,\n",
            "        [ 1.8884e-01,  3.8642e-01, -2.1536e-01,  ...,  6.1961e-01,\n",
            "         -4.0988e-02, -7.9903e-02],\n",
            "        [-2.3169e-01,  7.4789e-05,  5.5210e-01,  ...,  3.9327e-01,\n",
            "         -8.5978e-01, -5.3543e-01],\n",
            "        [-8.6620e-01, -1.9548e-01,  4.7630e-02,  ...,  8.4977e-01,\n",
            "         -5.3451e-02, -1.2188e-01]], device='cuda:0')\n"
          ]
        }
      ]
    },
    {
      "cell_type": "markdown",
      "metadata": {
        "id": "_8G1-IA4xxJo"
      },
      "source": [
        "## Accelerating neural net training\n",
        "\n",
        "If you wanted to accelerate the training of a neural net using raw PyTorch, you would have to copy both the model and the training data to the GPU. Unless you were using a really small dataset like MNIST, you would typically _stream_ the batches of training data to the GPU as you used them in the training loop:\n",
        "\n",
        "```python\n",
        "device = \"cuda:0\" if torch.cuda.is_available() else \"cpu\"\n",
        "model = BaselineModel(784, 784, 10).to(device)\n",
        "\n",
        "loss_function = ...\n",
        "optimiser = ...\n",
        "\n",
        "for epoch in range(10):\n",
        "    for data in trainloader:\n",
        "        inputs, labels = data\n",
        "        inputs, labels = inputs.to(device), labels.to(device)\n",
        "\n",
        "        optimiser.zero_grad()\n",
        "        outputs = model(inputs)\n",
        "        loss = loss_function(outputs, labels)\n",
        "        loss.backward()\n",
        "        optimiser.step()\n",
        "```\n",
        "\n",
        "Using Torchbearer, this becomes much simpler - you just tell the `Trial` to run on the GPU and that's it!:\n",
        "\n",
        "```python\n",
        "model = BetterCNN()\n",
        "\n",
        "loss_function = ...\n",
        "optimiser = ...\n",
        "\n",
        "device = \"cuda:0\" if torch.cuda.is_available() else \"cpu\"\n",
        "trial = Trial(model, optimiser, loss_function, metrics=['loss', 'accuracy']).to(device)\n",
        "trial.with_generators(trainloader)\n",
        "trial.run(epochs=10)\n",
        "```\n"
      ]
    },
    {
      "cell_type": "markdown",
      "metadata": {
        "id": "GPo3uyZXxxJq"
      },
      "source": [
        "## Multiple GPUs\n",
        "\n",
        "Using multiple GPUs is beyond the scope of the lab, but if you have multiple cuda devices, they can be referred to by index: `cuda:0`, `cuda:1`, `cuda:2`, etc. You have to be careful not to mix operations on different devices, and would need how to carefully orchestrate moving of data between the devices (which can really slow down your code to the point at which using the CPU would actually be faster)."
      ]
    }
  ]
}