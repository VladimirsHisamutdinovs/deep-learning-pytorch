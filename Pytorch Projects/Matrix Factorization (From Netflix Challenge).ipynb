{
  "nbformat": 4,
  "nbformat_minor": 0,
  "metadata": {
    "colab": {
      "name": "Lab1.ipynb",
      "provenance": [],
      "collapsed_sections": []
    },
    "kernelspec": {
      "name": "python3",
      "display_name": "Python 3"
    }
  },
  "cells": [
    {
      "cell_type": "code",
      "metadata": {
        "id": "NhPFY-GOrxes"
      },
      "source": [
        "import torch\n"
      ],
      "execution_count": null,
      "outputs": []
    },
    {
      "cell_type": "code",
      "metadata": {
        "colab": {
          "base_uri": "https://localhost:8080/"
        },
        "id": "1ONkCkW-_CsG",
        "outputId": "a24cbfb9-9df8-4bcd-853e-e2c3984958e8"
      },
      "source": [
        "A = torch.Tensor([[0.3374, 0.6005, 0.1735], [3.3359, 0.0492, 1.8374], [2.9407, 0.5301, 2.2620]])\n",
        "M = len(A)\n",
        "N = len(A[0])\n",
        "#rank = 2\n",
        "\n",
        "U = torch.randn(M, rank, dtype=torch.float).uniform_()\n",
        "V = torch.randn(N, rank, dtype=torch.float).uniform_()\n",
        "print ()\n",
        "print()\n",
        "print(A)\n"
      ],
      "execution_count": null,
      "outputs": [
        {
          "output_type": "stream",
          "text": [
            "\n",
            "\n",
            "tensor([[0.3374, 0.6005, 0.1735],\n",
            "        [3.3359, 0.0492, 1.8374],\n",
            "        [2.9407, 0.5301, 2.2620]])\n"
          ],
          "name": "stdout"
        }
      ]
    },
    {
      "cell_type": "code",
      "metadata": {
        "id": "hX7HdG5j9L5Z"
      },
      "source": [
        "from typing import Tuple\n",
        "\n",
        "def sgd_factorise(A, rank:int, num_epochs=1000, lr=0.01):\n",
        "  for epoch in range(num_epochs):\n",
        "    for row in range(len(A)):\n",
        "      for col in range(len(A[row])):\n",
        "        e = A[row][col] - U[row,:] @ (V[col,:]).T\n",
        "        U[row,:] = U[row,:] + lr * e * V[col,:]\n",
        "        V[col,:] = V[col,:] + lr * e * U[row,:]\n",
        "\n",
        "  return U, V"
      ],
      "execution_count": null,
      "outputs": []
    },
    {
      "cell_type": "code",
      "metadata": {
        "colab": {
          "base_uri": "https://localhost:8080/"
        },
        "id": "TbTJ_EooBqH-",
        "outputId": "dd759620-0829-41aa-9982-da8a491159df"
      },
      "source": [
        "U, V = sgd_factorise(A, rank, num_epochs=1000, lr=0.01)\n",
        "print(U)\n",
        "print(V)"
      ],
      "execution_count": null,
      "outputs": [
        {
          "output_type": "stream",
          "text": [
            "tensor([[ 0.6214, -0.1685],\n",
            "        [ 0.2769,  1.6421],\n",
            "        [ 0.9429,  1.2180]])\n",
            "tensor([[ 0.8578,  1.8329],\n",
            "        [ 0.8126, -0.1412],\n",
            "        [ 0.8580,  1.0606]])\n"
          ],
          "name": "stdout"
        }
      ]
    },
    {
      "cell_type": "code",
      "metadata": {
        "colab": {
          "base_uri": "https://localhost:8080/"
        },
        "id": "SX3mzp_aBlw0",
        "outputId": "dd540eac-2388-4457-dc77-43a7b9312ece"
      },
      "source": [
        "rec_loss = torch.nn.functional.mse_loss(A, U @ V.T, size_average=None, reduce=None, reduction = 'sum')\n",
        "rec_loss"
      ],
      "execution_count": null,
      "outputs": [
        {
          "output_type": "execute_result",
          "data": {
            "text/plain": [
              "tensor(0.1220)"
            ]
          },
          "metadata": {
            "tags": []
          },
          "execution_count": 34
        }
      ]
    },
    {
      "cell_type": "code",
      "metadata": {
        "id": "b_xufvFnOSDS"
      },
      "source": [
        "# rec_loss = torch.nn.functional.mse_loss(A, U @ torch.transpose(V, 0, 1), size_average=None, reduce=None, reduction = 'sum')\n",
        "# rec_loss"
      ],
      "execution_count": null,
      "outputs": []
    },
    {
      "cell_type": "code",
      "metadata": {
        "colab": {
          "base_uri": "https://localhost:8080/"
        },
        "id": "MBR65nsQMcdq",
        "outputId": "75454b39-3a0a-4cfd-a9eb-f8416be12ee6"
      },
      "source": [
        "U, S, V = torch.svd(A)\n",
        "\n",
        "print(U, S, V)"
      ],
      "execution_count": null,
      "outputs": [
        {
          "output_type": "stream",
          "text": [
            "tensor([[-0.0801, -0.7448,  0.6625],\n",
            "        [-0.7103,  0.5090,  0.4863],\n",
            "        [-0.6994, -0.4316, -0.5697]]) tensor([5.3339, 0.6959, 0.3492]) tensor([[-0.8349,  0.2548,  0.4879],\n",
            "        [-0.0851, -0.9355,  0.3430],\n",
            "        [-0.5439, -0.2448, -0.8027]])\n"
          ],
          "name": "stdout"
        }
      ]
    },
    {
      "cell_type": "code",
      "metadata": {
        "colab": {
          "base_uri": "https://localhost:8080/"
        },
        "id": "8sLiTGwyNaBz",
        "outputId": "76c9fd08-9eae-401b-ba9e-71b3855f2348"
      },
      "source": [
        "U, S, V = torch.svd(A)\n",
        "S[-1] = 0\n",
        "\n",
        "rec_loss = torch.nn.functional.mse_loss(A, U @ torch.diag(S) @ V.T, size_average=None, reduce=None, reduction = 'sum')\n",
        "rec_loss"
      ],
      "execution_count": null,
      "outputs": [
        {
          "output_type": "execute_result",
          "data": {
            "text/plain": [
              "tensor(0.1219)"
            ]
          },
          "metadata": {
            "tags": []
          },
          "execution_count": 37
        }
      ]
    },
    {
      "cell_type": "code",
      "metadata": {
        "colab": {
          "base_uri": "https://localhost:8080/"
        },
        "id": "1R2hZVzTAxJ6",
        "outputId": "08994023-9465-449b-b944-29914ef9703c"
      },
      "source": [
        "A = torch.Tensor([[0.3374, 0.6005, 0.1735], [ float('NaN'), 0.0492, 1.8374], [2.9407, float('NaN'), 2.2620]])\n",
        "A"
      ],
      "execution_count": null,
      "outputs": [
        {
          "output_type": "execute_result",
          "data": {
            "text/plain": [
              "tensor([[0.3374, 0.6005, 0.1735],\n",
              "        [   nan, 0.0492, 1.8374],\n",
              "        [2.9407,    nan, 2.2620]])"
            ]
          },
          "metadata": {
            "tags": []
          },
          "execution_count": 38
        }
      ]
    },
    {
      "cell_type": "code",
      "metadata": {
        "colab": {
          "base_uri": "https://localhost:8080/"
        },
        "id": "COJycqUIcf-I",
        "outputId": "79cf48c7-cb83-4736-f6b8-7117edd1a06a"
      },
      "source": [
        "x = torch.ones_like(A)\n",
        "y = torch.zeros_like(A)\n",
        "\n",
        "M_nonan = torch.Tensor(A).nan_to_num(nan=0.0)\n",
        "M = torch.where(M_nonan != 0, x, y)\n",
        "M"
      ],
      "execution_count": null,
      "outputs": [
        {
          "output_type": "execute_result",
          "data": {
            "text/plain": [
              "tensor([[1., 1., 1.],\n",
              "        [0., 1., 1.],\n",
              "        [1., 0., 1.]])"
            ]
          },
          "metadata": {
            "tags": []
          },
          "execution_count": 39
        }
      ]
    },
    {
      "cell_type": "code",
      "metadata": {
        "id": "IuVOjfUxH3VR"
      },
      "source": [
        "x = torch.ones_like(A)\n",
        "y = torch.zeros_like(A)\n",
        "\n",
        "M_nonan = torch.Tensor(A).nan_to_num(nan=0.0)\n",
        "M = torch.where(M_nonan != 0, x, y)\n",
        "\n",
        "def sgd_factorise(A, M, rank:int, num_epochs=1000, lr=0.01):\n",
        "  for epoch in range(num_epochs):\n",
        "    for row in range(len(A)):\n",
        "      for col in range(len(A[row])):\n",
        "        if M[row][col] != 0:\n",
        "          e = A[row][col] - U[row,:] @ (V[col,:]).T\n",
        "          U[row,:] = U[row,:] + lr * e * V[col,:]\n",
        "          V[col,:] = V[col,:] + lr * e * U[row,:]\n",
        "\n",
        "  return U, V"
      ],
      "execution_count": null,
      "outputs": []
    },
    {
      "cell_type": "code",
      "metadata": {
        "id": "rwtskbQr36Bb"
      },
      "source": [
        ""
      ],
      "execution_count": null,
      "outputs": []
    },
    {
      "cell_type": "code",
      "metadata": {
        "colab": {
          "base_uri": "https://localhost:8080/"
        },
        "id": "Xysij1vVKtrW",
        "outputId": "c0cda411-6077-4f9c-e277-53b328243b43"
      },
      "source": [
        "U, V = sgd_factorise(A, M, rank, num_epochs=1000, lr=0.01)\n",
        "print(U,V)"
      ],
      "execution_count": null,
      "outputs": [
        {
          "output_type": "stream",
          "text": [
            "tensor([[-0.1867, -0.6302,  0.3805],\n",
            "        [-1.5014,  0.2460, -0.0166],\n",
            "        [-1.6102, -0.3714, -0.3698]]) tensor([[-1.8276e+00,  5.9897e-03, -2.3014e-04],\n",
            "        [-1.5863e-01, -7.5072e-01,  2.5699e-01],\n",
            "        [-1.2503e+00, -1.9365e-01, -4.7827e-01]])\n"
          ],
          "name": "stdout"
        }
      ]
    },
    {
      "cell_type": "code",
      "metadata": {
        "colab": {
          "base_uri": "https://localhost:8080/"
        },
        "id": "TxBtaiqIKHxT",
        "outputId": "54e91a58-0976-4e41-9715-22271a31877c"
      },
      "source": [
        "A_comp = U @ V.T\n",
        "A_comp"
      ],
      "execution_count": null,
      "outputs": [
        {
          "output_type": "execute_result",
          "data": {
            "text/plain": [
              "tensor([[0.3374, 0.6005, 0.1735],\n",
              "        [2.7454, 0.0492, 1.8374],\n",
              "        [2.9407, 0.4392, 2.2620]])"
            ]
          },
          "metadata": {
            "tags": []
          },
          "execution_count": 45
        }
      ]
    }
  ]
}